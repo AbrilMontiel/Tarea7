{
  "nbformat": 4,
  "nbformat_minor": 0,
  "metadata": {
    "colab": {
      "name": "ListaSimplementeLigada.ipynb",
      "provenance": [],
      "authorship_tag": "ABX9TyOvUJaq1IZe5Tx9ALiKZvhm",
      "include_colab_link": true
    },
    "kernelspec": {
      "name": "python3",
      "display_name": "Python 3"
    },
    "language_info": {
      "name": "python"
    }
  },
  "cells": [
    {
      "cell_type": "markdown",
      "metadata": {
        "id": "view-in-github",
        "colab_type": "text"
      },
      "source": [
        "<a href=\"https://colab.research.google.com/github/AbrilMontiel/Tarea7/blob/master/ListaSimplementeLigada.ipynb\" target=\"_parent\"><img src=\"https://colab.research.google.com/assets/colab-badge.svg\" alt=\"Open In Colab\"/></a>"
      ]
    },
    {
      "cell_type": "code",
      "metadata": {
        "id": "9oARm8jsVzZO"
      },
      "source": [
        "class Nodo:\n",
        "  def __init__( self, value, siguiente = None ):\n",
        "    self.data = value\n",
        "    self.next = siguiente"
      ],
      "execution_count": 1,
      "outputs": []
    },
    {
      "cell_type": "code",
      "metadata": {
        "id": "DTmz1VAxWY8M"
      },
      "source": [
        "class LinkedList:\n",
        "  def __init__( self ):\n",
        "    self.head = None\n",
        "\n",
        "  def is_empty( self ): #true o false\n",
        "    return self.head == None\n",
        "\n",
        "  def get_tail( self ):\n",
        "    if self.is_empty():\n",
        "      return None\n",
        "    else:\n",
        "      curr_node = self.head\n",
        "      while curr_node.next != None:\n",
        "        curr_node = curr_node.next\n",
        "      return curr_node\n",
        "\n",
        "  def append( self, value ):\n",
        "    if self.head == None:\n",
        "       self.head = Nodo( value )\n",
        "    else:\n",
        "      curr_node = self.head\n",
        "      while curr_node.next != None:\n",
        "        curr_node = curr_node.next\n",
        "      curr_node.next = Nodo( value )\n",
        "\n",
        "  def trasversal( self ):\n",
        "    curr_node = self.head\n",
        "    while curr_node.next != None:\n",
        "      print(f\"| {curr_node.data} | --> \", end=\"\")\n",
        "      curr_node = curr_node.next\n",
        "    print(\"\")\n",
        "\n",
        "  def remove( self, value ):\n",
        "    if self.head == None:\n",
        "      print(\"Lista vacia, no se puede remover nada\")\n",
        "    else:\n",
        "      curr_node = self.head\n",
        "      aux = None\n",
        "      while curr_node.data != value:\n",
        "        aux = curr_node\n",
        "        curr_node = curr_node.next\n",
        "    \n",
        "      if curr_node != None:\n",
        "       aux.next = curr_node.next\n",
        "       curr_node = None\n",
        "\n",
        "  def preppend( self, value ):\n",
        "    if self.head == None:\n",
        "      print(\"Esta vacio, no puede hacer preppend\")\n",
        "    else:\n",
        "      aux = self.head\n",
        "      self.head = Nodo( value, aux )\n",
        "\n",
        "  def pop( self ):\n",
        "    if self.head == None:\n",
        "      print(\"Esta vacio, no se puede hacer pop\")\n",
        "      return\n",
        "    curr_node = self.head\n",
        "    while curr_node.next.next != None:\n",
        "      curr_node = curr_node.next.next\n",
        "      curr_node.next.next = None\n",
        "\n",
        "  def pop_first( self ):\n",
        "    if self.head == None:\n",
        "      print(\"Esta vacio, no se puede hacer pop_first\")\n",
        "      return\n",
        "    self.head = self.head.next\n",
        "     \n",
        "   "
      ],
      "execution_count": 2,
      "outputs": []
    },
    {
      "cell_type": "code",
      "metadata": {
        "colab": {
          "base_uri": "https://localhost:8080/"
        },
        "id": "abRzBd9QWeHX",
        "outputId": "225108fe-b962-4554-fa7d-1f0d391f37c8"
      },
      "source": [
        "lista = LinkedList()\n",
        "if lista.is_empty():\n",
        "    print(\"La lista está vacia\")\n",
        "else:\n",
        "    print(\"La lista no está vacia\")\n",
        "\n",
        "lista.append(10)\n",
        "lista.append(20)\n",
        "lista.append(30)\n",
        "lista.append(40)\n",
        "lista.append(50)\n",
        "\n",
        "nodo = lista.get_tail()\n",
        "if nodo != None:\n",
        "    print(nodo.data)\n",
        "else:\n",
        "    print(\"Lista vacia\")\n",
        "\n",
        "lista.trasversal()\n",
        "print(\"\\nDespues del remove\")\n",
        "lista.remove(30)\n",
        "lista.trasversal()\n",
        "\n",
        "print(\"\\nDespues del preppend\")\n",
        "lista.preppend(5)\n",
        "lista.trasversal()\n",
        "\n",
        "print(\"\\nDespues del pop\")\n",
        "lista.pop()\n",
        "lista.trasversal()\n",
        "\n",
        "print(\"\\nDespues del pop_first\")\n",
        "lista.pop_first()\n",
        "lista.trasversal()"
      ],
      "execution_count": 3,
      "outputs": [
        {
          "output_type": "stream",
          "name": "stdout",
          "text": [
            "La lista está vacia\n",
            "50\n",
            "| 10 | --> | 20 | --> | 30 | --> | 40 | --> \n",
            "\n",
            "Despues del remove\n",
            "| 10 | --> | 20 | --> | 40 | --> \n",
            "\n",
            "Despues del preppend\n",
            "| 5 | --> | 10 | --> | 20 | --> | 40 | --> \n",
            "\n",
            "Despues del pop\n",
            "| 5 | --> | 10 | --> | 20 | --> \n",
            "\n",
            "Despues del pop_first\n",
            "| 10 | --> | 20 | --> \n"
          ]
        }
      ]
    }
  ]
}